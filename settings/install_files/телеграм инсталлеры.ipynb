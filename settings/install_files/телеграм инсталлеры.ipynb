{
 "cells": [
  {
   "cell_type": "code",
   "execution_count": 1,
   "metadata": {},
   "outputs": [
    {
     "name": "stdout",
     "output_type": "stream",
     "text": [
      "Collecting python-telegram-bot\n",
      "  Downloading python_telegram_bot-13.7-py3-none-any.whl (490 kB)\n",
      "Requirement already satisfied: tornado>=6.1 in c:\\users\\ustsl\\anaconda3\\lib\\site-packages (from python-telegram-bot) (6.1)\n",
      "Collecting cachetools==4.2.2\n",
      "  Downloading cachetools-4.2.2-py3-none-any.whl (11 kB)\n",
      "Collecting APScheduler==3.6.3\n",
      "  Downloading APScheduler-3.6.3-py2.py3-none-any.whl (58 kB)\n",
      "Requirement already satisfied: certifi in c:\\users\\ustsl\\anaconda3\\lib\\site-packages (from python-telegram-bot) (2020.12.5)\n",
      "Requirement already satisfied: pytz>=2018.6 in c:\\users\\ustsl\\anaconda3\\lib\\site-packages (from python-telegram-bot) (2021.1)\n",
      "Requirement already satisfied: setuptools>=0.7 in c:\\users\\ustsl\\anaconda3\\lib\\site-packages (from APScheduler==3.6.3->python-telegram-bot) (52.0.0.post20210125)\n",
      "Requirement already satisfied: six>=1.4.0 in c:\\users\\ustsl\\anaconda3\\lib\\site-packages (from APScheduler==3.6.3->python-telegram-bot) (1.15.0)\n",
      "Collecting tzlocal>=1.2\n",
      "  Downloading tzlocal-3.0-py3-none-any.whl (16 kB)\n",
      "Collecting tzdata\n",
      "  Downloading tzdata-2021.2.post0-py2.py3-none-any.whl (339 kB)\n",
      "Collecting backports.zoneinfo\n",
      "  Downloading backports.zoneinfo-0.2.1-cp38-cp38-win_amd64.whl (38 kB)\n",
      "Installing collected packages: tzdata, backports.zoneinfo, tzlocal, cachetools, APScheduler, python-telegram-bot\n",
      "  Attempting uninstall: cachetools\n",
      "    Found existing installation: cachetools 4.2.4\n",
      "    Uninstalling cachetools-4.2.4:\n",
      "      Successfully uninstalled cachetools-4.2.4\n",
      "Successfully installed APScheduler-3.6.3 backports.zoneinfo-0.2.1 cachetools-4.2.2 python-telegram-bot-13.7 tzdata-2021.2.post0 tzlocal-3.0\n"
     ]
    }
   ],
   "source": [
    "!pip install python-telegram-bot --upgrade"
   ]
  },
  {
   "cell_type": "code",
   "execution_count": 2,
   "metadata": {},
   "outputs": [],
   "source": [
    "!jt -t chesterish"
   ]
  },
  {
   "cell_type": "code",
   "execution_count": 3,
   "metadata": {},
   "outputs": [
    {
     "ename": "SyntaxError",
     "evalue": "invalid syntax (<ipython-input-3-de2e746ade80>, line 1)",
     "output_type": "error",
     "traceback": [
      "\u001b[1;36m  File \u001b[1;32m\"<ipython-input-3-de2e746ade80>\"\u001b[1;36m, line \u001b[1;32m1\u001b[0m\n\u001b[1;33m    jt -t chesterish\u001b[0m\n\u001b[1;37m          ^\u001b[0m\n\u001b[1;31mSyntaxError\u001b[0m\u001b[1;31m:\u001b[0m invalid syntax\n"
     ]
    }
   ],
   "source": [
    "jt -t chesterish"
   ]
  },
  {
   "cell_type": "code",
   "execution_count": null,
   "metadata": {},
   "outputs": [],
   "source": []
  }
 ],
 "metadata": {
  "kernelspec": {
   "display_name": "Python 3",
   "language": "python",
   "name": "python3"
  },
  "language_info": {
   "codemirror_mode": {
    "name": "ipython",
    "version": 3
   },
   "file_extension": ".py",
   "mimetype": "text/x-python",
   "name": "python",
   "nbconvert_exporter": "python",
   "pygments_lexer": "ipython3",
   "version": "3.8.8"
  }
 },
 "nbformat": 4,
 "nbformat_minor": 2
}
